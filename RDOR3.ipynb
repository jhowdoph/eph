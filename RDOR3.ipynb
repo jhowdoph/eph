{
 "cells": [
  {
   "cell_type": "code",
   "execution_count": 1,
   "metadata": {},
   "outputs": [
    {
     "name": "stdout",
     "output_type": "stream",
     "text": [
      "                                   Indicador                 Valor\n",
      "0                  P/L (Relação Preço-Lucro)              4269.64%\n",
      "1         P/B (Relação Preço-Valor Contábil)               240.42%\n",
      "2   Dividend Yield (Rendimento de Dividendo)                 1.63%\n",
      "3                            Cap. de Mercado  R$ 53,907,722,240.00\n",
      "4                               Volume Médio               6745836\n",
      "5                 ROA (Retorno sobre Ativos)                 3.41%\n",
      "6   ROE (Retorno sobre o Patrimônio Líquido)                 7.38%\n",
      "7                            Margem de Lucro                 3.85%\n",
      "8                  Relação Dívida-Patrimônio             15857.10%\n",
      "9                              Receita Total  R$ 34,808,881,152.00\n",
      "10                                    EBITDA   R$ 5,330,853,888.00\n"
     ]
    }
   ],
   "source": [
    "import yfinance as yf\n",
    "import pandas as pd\n",
    "\n",
    "ativo = \"RDOR3.SA\"\n",
    "estoque = yf.Ticker(ativo)\n",
    "informacoes = estoque.info\n",
    "\n",
    "indicadores = {\n",
    "    'P/L (Relação Preço-Lucro)': informacoes.get('trailingPE', None),\n",
    "    'P/B (Relação Preço-Valor Contábil)': informacoes.get('priceToBook', None),\n",
    "    'Dividend Yield (Rendimento de Dividendo)': informacoes.get('dividendYield', None),\n",
    "    'Cap. de Mercado': informacoes.get('marketCap', None),\n",
    "    'Volume Médio': informacoes.get('averageVolume', None),\n",
    "    'ROA (Retorno sobre Ativos)': informacoes.get('returnOnAssets', None),\n",
    "    'ROE (Retorno sobre o Patrimônio Líquido)': informacoes.get('returnOnEquity', None),\n",
    "    'Margem de Lucro': informacoes.get('profitMargins', None),\n",
    "    'Relação Dívida-Patrimônio': informacoes.get('debtToEquity', None),\n",
    "    'Receita Total': informacoes.get('totalRevenue', None),\n",
    "    'EBITDA': informacoes.get('ebitda', None)\n",
    "}\n",
    "\n",
    "def formatar_valor(valor, tipo='moeda'):\n",
    "    if valor is None:\n",
    "        return None\n",
    "    if tipo == 'moeda':\n",
    "        return f\"R$ {valor:,.2f}\"\n",
    "    elif tipo == 'porcentagem':\n",
    "        return f\"{valor * 100:.2f}%\"\n",
    "\n",
    "for chave in indicadores:\n",
    "    if \"Yield\" in chave or \"ROA\" in chave or \"ROE\" in chave or \"Margem\" in chave or \"Relação\" in chave:\n",
    "        indicadores[chave] = formatar_valor(indicadores[chave], 'porcentagem')\n",
    "    elif \"Cap. de Mercado\" in chave or \"Receita Total\" in chave or \"EBITDA\" in chave:\n",
    "        indicadores[chave] = formatar_valor(indicadores[chave], 'moeda')\n",
    "\n",
    "df = pd.DataFrame(list(indicadores.items()), columns=['Indicador', 'Valor'])\n",
    "\n",
    "print(df)"
   ]
  }
 ],
 "metadata": {
  "kernelspec": {
   "display_name": "Python 3",
   "language": "python",
   "name": "python3"
  },
  "language_info": {
   "codemirror_mode": {
    "name": "ipython",
    "version": 3
   },
   "file_extension": ".py",
   "mimetype": "text/x-python",
   "name": "python",
   "nbconvert_exporter": "python",
   "pygments_lexer": "ipython3",
   "version": "3.11.5"
  }
 },
 "nbformat": 4,
 "nbformat_minor": 2
}
